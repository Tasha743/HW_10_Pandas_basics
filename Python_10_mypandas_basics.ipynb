{
 "cells": [
  {
   "cell_type": "markdown",
   "metadata": {},
   "source": [
    "**Задание 1**\n",
    "Скачайте с сайта https://grouplens.org/datasets/movielens/ датасет любого размера. Определите какому фильму было выставлено больше всего оценок 5.0.\n"
   ]
  },
  {
   "cell_type": "code",
   "execution_count": 1,
   "metadata": {},
   "outputs": [],
   "source": [
    "import pandas as pd"
   ]
  },
  {
   "cell_type": "code",
   "execution_count": 3,
   "metadata": {},
   "outputs": [
    {
     "data": {
      "text/plain": [
       "Shawshank Redemption, The (1994)    1.094901\n",
       "Name: title, dtype: float64"
      ]
     },
     "execution_count": 3,
     "metadata": {},
     "output_type": "execute_result"
    }
   ],
   "source": [
    "movies = pd.read_csv('movies.csv')\n",
    "raitings = pd.read_csv('ratings.csv')\n",
    "merged = pd.merge(raitings,movies, on='movieId', how='left')\n",
    "filtred_merg=merged.query('rating == 5')\n",
    "rait=filtred_merg['title'].value_counts(normalize=True).head()*100.\n",
    "rait.head(1)"
   ]
  },
  {
   "cell_type": "markdown",
   "metadata": {},
   "source": [
    "**Задание 2**\n",
    "По данным файла power.csv посчитайте суммарное потребление стран Прибалтики (Латвия, Литва и Эстония) категорий 4, 12 и 21 за период с 2005 по 2010 года. Не учитывайте в расчетах отрицательные значения quantity."
   ]
  },
  {
   "cell_type": "code",
   "execution_count": 29,
   "metadata": {},
   "outputs": [
    {
     "data": {
      "text/plain": [
       "970728.0"
      ]
     },
     "execution_count": 29,
     "metadata": {},
     "output_type": "execute_result"
    }
   ],
   "source": [
    "power=pd.read_csv('power.csv')\n",
    "#power.head()\n",
    "#power[power['country'].str.contains('Est', case=False)]['country'].unique()\n",
    "\n",
    "pow_filtr=power[((power['country']=='Latvia')|(power['country']=='Lithuania')|(power['country']=='Estonia'))\\\n",
    "                &((power['category']==4)|(power['category']==12)|(power['category']==21))\\\n",
    "               &(power['quantity']>0)&((power['year']>2005)|(power['year']<2010))]\n",
    "#pow_filtr.head(5)\n",
    "power_sum=pow_filtr['quantity'].sum()\n",
    "power_sum\n"
   ]
  },
  {
   "cell_type": "markdown",
   "metadata": {},
   "source": [
    "**Задание 3**\n",
    "Выберите страницу любого сайта с табличными данными. Импортируйте таблицы в pandas dataframe.\n",
    "Примеры страниц (необязательно брать именно эти): \n",
    "https://fortrader.org/quotes\n",
    "https://www.finanz.ru/valyuty/v-realnom-vremeni"
   ]
  },
  {
   "cell_type": "code",
   "execution_count": 36,
   "metadata": {},
   "outputs": [
    {
     "data": {
      "text/html": [
       "<div>\n",
       "<style scoped>\n",
       "    .dataframe tbody tr th:only-of-type {\n",
       "        vertical-align: middle;\n",
       "    }\n",
       "\n",
       "    .dataframe tbody tr th {\n",
       "        vertical-align: top;\n",
       "    }\n",
       "\n",
       "    .dataframe thead th {\n",
       "        text-align: right;\n",
       "    }\n",
       "</style>\n",
       "<table border=\"1\" class=\"dataframe\">\n",
       "  <thead>\n",
       "    <tr style=\"text-align: right;\">\n",
       "      <th></th>\n",
       "      <th>Type</th>\n",
       "      <th>Last</th>\n",
       "      <th>Chg.</th>\n",
       "      <th>Chg.%</th>\n",
       "      <th>Time</th>\n",
       "    </tr>\n",
       "  </thead>\n",
       "  <tbody>\n",
       "    <tr>\n",
       "      <td>0</td>\n",
       "      <td>EURUSD Курс евро к доллару</td>\n",
       "      <td>1.10903</td>\n",
       "      <td>0.00000</td>\n",
       "      <td>0.00000</td>\n",
       "      <td>NaN</td>\n",
       "    </tr>\n",
       "    <tr>\n",
       "      <td>1</td>\n",
       "      <td>AUDUSD Курс австралийского доллара к доллару сша</td>\n",
       "      <td>0.66942</td>\n",
       "      <td>0.00092</td>\n",
       "      <td>0.13762</td>\n",
       "      <td>NaN</td>\n",
       "    </tr>\n",
       "    <tr>\n",
       "      <td>2</td>\n",
       "      <td>AUDCAD Australian Dollar / Canadian Dollar</td>\n",
       "      <td>0.88583</td>\n",
       "      <td>0.00163</td>\n",
       "      <td>0.18435</td>\n",
       "      <td>NaN</td>\n",
       "    </tr>\n",
       "    <tr>\n",
       "      <td>3</td>\n",
       "      <td>EURCHF Euro / Swiss Franc</td>\n",
       "      <td>1.06810</td>\n",
       "      <td>-0.00047</td>\n",
       "      <td>-0.04398</td>\n",
       "      <td>NaN</td>\n",
       "    </tr>\n",
       "    <tr>\n",
       "      <td>4</td>\n",
       "      <td>EURGBP Euro / Great Britain Pound</td>\n",
       "      <td>0.83991</td>\n",
       "      <td>0.00007</td>\n",
       "      <td>0.00833</td>\n",
       "      <td>NaN</td>\n",
       "    </tr>\n",
       "    <tr>\n",
       "      <td>5</td>\n",
       "      <td>EURJPY Euro / Japanese Yen</td>\n",
       "      <td>120.17900</td>\n",
       "      <td>-0.02300</td>\n",
       "      <td>-0.01900</td>\n",
       "      <td>NaN</td>\n",
       "    </tr>\n",
       "    <tr>\n",
       "      <td>6</td>\n",
       "      <td>GBPJPY Great Britain Pound / Japanese Yen</td>\n",
       "      <td>143.06600</td>\n",
       "      <td>-0.00800</td>\n",
       "      <td>-0.00600</td>\n",
       "      <td>NaN</td>\n",
       "    </tr>\n",
       "    <tr>\n",
       "      <td>7</td>\n",
       "      <td>GBPUSD Курс фунта к доллару</td>\n",
       "      <td>1.32027</td>\n",
       "      <td>-0.00028</td>\n",
       "      <td>-0.02120</td>\n",
       "      <td>NaN</td>\n",
       "    </tr>\n",
       "    <tr>\n",
       "      <td>8</td>\n",
       "      <td>USDCAD Курс канадского доллара к доллару сша</td>\n",
       "      <td>1.32327</td>\n",
       "      <td>0.00060</td>\n",
       "      <td>0.04536</td>\n",
       "      <td>NaN</td>\n",
       "    </tr>\n",
       "    <tr>\n",
       "      <td>9</td>\n",
       "      <td>NZDUSD New Zealand Dollar / US Dollar</td>\n",
       "      <td>0.64640</td>\n",
       "      <td>0.00017</td>\n",
       "      <td>0.02631</td>\n",
       "      <td>NaN</td>\n",
       "    </tr>\n",
       "    <tr>\n",
       "      <td>10</td>\n",
       "      <td>USDCHF US Dollar / Swiss Franc</td>\n",
       "      <td>0.96317</td>\n",
       "      <td>-0.00002</td>\n",
       "      <td>-0.00208</td>\n",
       "      <td>NaN</td>\n",
       "    </tr>\n",
       "    <tr>\n",
       "      <td>11</td>\n",
       "      <td>USDCNH Курс китайского юаня к доллару США</td>\n",
       "      <td>6.99743</td>\n",
       "      <td>-0.06856</td>\n",
       "      <td>-0.97028</td>\n",
       "      <td>NaN</td>\n",
       "    </tr>\n",
       "    <tr>\n",
       "      <td>12</td>\n",
       "      <td>USDJPY Курс йены к доллару</td>\n",
       "      <td>108.36400</td>\n",
       "      <td>0.02000</td>\n",
       "      <td>0.01800</td>\n",
       "      <td>NaN</td>\n",
       "    </tr>\n",
       "  </tbody>\n",
       "</table>\n",
       "</div>"
      ],
      "text/plain": [
       "                                                Type       Last     Chg.  \\\n",
       "0                         EURUSD Курс евро к доллару    1.10903  0.00000   \n",
       "1   AUDUSD Курс австралийского доллара к доллару сша    0.66942  0.00092   \n",
       "2         AUDCAD Australian Dollar / Canadian Dollar    0.88583  0.00163   \n",
       "3                          EURCHF Euro / Swiss Franc    1.06810 -0.00047   \n",
       "4                  EURGBP Euro / Great Britain Pound    0.83991  0.00007   \n",
       "5                         EURJPY Euro / Japanese Yen  120.17900 -0.02300   \n",
       "6          GBPJPY Great Britain Pound / Japanese Yen  143.06600 -0.00800   \n",
       "7                        GBPUSD Курс фунта к доллару    1.32027 -0.00028   \n",
       "8       USDCAD Курс канадского доллара к доллару сша    1.32327  0.00060   \n",
       "9              NZDUSD New Zealand Dollar / US Dollar    0.64640  0.00017   \n",
       "10                    USDCHF US Dollar / Swiss Franc    0.96317 -0.00002   \n",
       "11         USDCNH Курс китайского юаня к доллару США    6.99743 -0.06856   \n",
       "12                        USDJPY Курс йены к доллару  108.36400  0.02000   \n",
       "\n",
       "      Chg.%  Time  \n",
       "0   0.00000   NaN  \n",
       "1   0.13762   NaN  \n",
       "2   0.18435   NaN  \n",
       "3  -0.04398   NaN  \n",
       "4   0.00833   NaN  \n",
       "5  -0.01900   NaN  \n",
       "6  -0.00600   NaN  \n",
       "7  -0.02120   NaN  \n",
       "8   0.04536   NaN  \n",
       "9   0.02631   NaN  \n",
       "10 -0.00208   NaN  \n",
       "11 -0.97028   NaN  \n",
       "12  0.01800   NaN  "
      ]
     },
     "execution_count": 36,
     "metadata": {},
     "output_type": "execute_result"
    }
   ],
   "source": [
    "pd.read_html('https://fortrader.org/quotes')[4]"
   ]
  },
  {
   "cell_type": "code",
   "execution_count": null,
   "metadata": {},
   "outputs": [],
   "source": []
  }
 ],
 "metadata": {
  "kernelspec": {
   "display_name": "Python 3",
   "language": "python",
   "name": "python3"
  },
  "language_info": {
   "codemirror_mode": {
    "name": "ipython",
    "version": 3
   },
   "file_extension": ".py",
   "mimetype": "text/x-python",
   "name": "python",
   "nbconvert_exporter": "python",
   "pygments_lexer": "ipython3",
   "version": "3.7.4"
  }
 },
 "nbformat": 4,
 "nbformat_minor": 2
}
